{
 "cells": [
  {
   "cell_type": "markdown",
   "id": "2c60318a",
   "metadata": {},
   "source": [
    "# Multiple Dispatch"
   ]
  },
  {
   "cell_type": "code",
   "execution_count": 1,
   "id": "3f7549f8",
   "metadata": {},
   "outputs": [
    {
     "name": "stderr",
     "output_type": "stream",
     "text": [
      "┌ Info: Precompiling Plots [91a5bcdd-55d7-5caf-9e0b-520d859cae80]\n",
      "└ @ Base loading.jl:1317\n"
     ]
    }
   ],
   "source": [
    "using Pkg\n",
    "# Pkg.add(\"Plots\")\n",
    "# Pkg.add(\"LinearAlgebra\")\n",
    "using Plots\n",
    "using LinearAlgebra\n",
    "\n"
   ]
  },
  {
   "cell_type": "markdown",
   "id": "ede3515a",
   "metadata": {},
   "source": [
    "Functions are a concept with a name. Methods implement the concept with, potentially, multiple methods handing different input types.  "
   ]
  },
  {
   "cell_type": "markdown",
   "id": "607e233e",
   "metadata": {},
   "source": [
    "Implement multiple method for the function `myinv`"
   ]
  },
  {
   "cell_type": "code",
   "execution_count": 3,
   "id": "897cd1ff",
   "metadata": {},
   "outputs": [
    {
     "data": {
      "text/plain": [
       "myinv (generic function with 3 methods)"
      ]
     },
     "execution_count": 3,
     "metadata": {},
     "output_type": "execute_result"
    }
   ],
   "source": [
    "function myinv(m::Float64)\n",
    "    println(\"scalar op \",45345345345,m)\n",
    "    return 1/m\n",
    "end\n",
    "\n",
    "function myinv(m::Array{Float64})\n",
    "    println(\"matrix op \",45345345345,m)\n",
    "    return inv(m)\n",
    "end\n",
    "\n",
    "function myinv(a,b)\n",
    "    println(\"What !??\")\n",
    "    return nothing\n",
    "end\n"
   ]
  },
  {
   "cell_type": "code",
   "execution_count": 5,
   "id": "68cc962c",
   "metadata": {},
   "outputs": [
    {
     "name": "stdout",
     "output_type": "stream",
     "text": [
      "scalar op 453453453455.0\n"
     ]
    },
    {
     "data": {
      "text/plain": [
       "0.2"
      ]
     },
     "execution_count": 5,
     "metadata": {},
     "output_type": "execute_result"
    }
   ],
   "source": [
    "c=myinv(5.0)\n"
   ]
  },
  {
   "cell_type": "code",
   "execution_count": 6,
   "id": "9687399f",
   "metadata": {},
   "outputs": [
    {
     "name": "stdout",
     "output_type": "stream",
     "text": [
      "matrix op 45345345345[0.7454635103518379 0.16527202020786746 0.15214091086038994; 0.9594433676904166 0.4301927014292155 0.29307409081862135; 0.5140276659014911 0.5580651692225147 0.8196329384989278]\n"
     ]
    },
    {
     "data": {
      "text/plain": [
       "3×3 Matrix{Float64}:\n",
       "  2.25931  -0.604223  -0.203324\n",
       " -7.59785   6.36758   -0.866522\n",
       "  3.75625  -3.95657    1.93756"
      ]
     },
     "execution_count": 6,
     "metadata": {},
     "output_type": "execute_result"
    }
   ],
   "source": [
    "\n",
    "b=rand(3,3)\n",
    "d=myinv(b)"
   ]
  },
  {
   "cell_type": "code",
   "execution_count": 4,
   "id": "51d6f9b2",
   "metadata": {},
   "outputs": [
    {
     "name": "stdout",
     "output_type": "stream",
     "text": [
      "What !??\n"
     ]
    }
   ],
   "source": [
    "myinv(4,5)"
   ]
  }
 ],
 "metadata": {
  "kernelspec": {
   "display_name": "Julia 1.6.0",
   "language": "julia",
   "name": "julia-1.6"
  },
  "language_info": {
   "file_extension": ".jl",
   "mimetype": "application/julia",
   "name": "julia",
   "version": "1.6.0"
  }
 },
 "nbformat": 4,
 "nbformat_minor": 5
}
